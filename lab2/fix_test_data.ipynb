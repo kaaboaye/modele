{
 "cells": [
  {
   "cell_type": "code",
   "execution_count": null,
   "metadata": {},
   "outputs": [],
   "source": [
    "import pickle\n",
    "\n",
    "with open('test_data.pkl', 'rb') as input_file:\n",
    "    data = pickle.load(input_file)"
   ]
  },
  {
   "cell_type": "code",
   "execution_count": null,
   "metadata": {},
   "outputs": [],
   "source": [
    "data['estimate_a_priori_NB']['ytrain'] -= 1\n",
    "data['estimate_p_x_y_NB']['ytrain'] -= 1\n",
    "data['model_selection_KNN']['yval'] -= 1\n",
    "data['model_selection_KNN']['ytrain'] -= 1\n",
    "data['model_selection_NB']['ytrain'] -= 1\n",
    "data['model_selection_NB']['yval'] -= 1\n",
    "data['p_y_x_KNN']['y'] -= 1"
   ]
  },
  {
   "cell_type": "code",
   "execution_count": null,
   "metadata": {},
   "outputs": [],
   "source": [
    "data['error_fun']['y_true'][0] = 1\n",
    "data['error_fun']['y_true'][0] = 2\n",
    "data['error_fun']['error_val'] = 0.75"
   ]
  },
  {
   "cell_type": "code",
   "execution_count": null,
   "metadata": {},
   "outputs": [],
   "source": [
    "with open('test_data.pkl', 'wb') as output_file:\n",
    "    pickle.dump(data, output_file, protocol=pickle.HIGHEST_PROTOCOL)"
   ]
  },
  {
   "cell_type": "code",
   "execution_count": null,
   "metadata": {},
   "outputs": [],
   "source": [
    "with open('data.pkl', 'rb') as input_file:\n",
    "    data = pickle.load(input_file)"
   ]
  },
  {
   "cell_type": "code",
   "execution_count": null,
   "metadata": {},
   "outputs": [],
   "source": [
    "data['ytest'] -= 1\n",
    "data['ytrain'] -= 1\n",
    "data['yval'] -= 1"
   ]
  },
  {
   "cell_type": "code",
   "execution_count": null,
   "metadata": {},
   "outputs": [],
   "source": [
    "with open('data.pkl', 'wb') as output_file:\n",
    "    pickle.dump(data, output_file, protocol=pickle.HIGHEST_PROTOCOL)"
   ]
  }
 ],
 "metadata": {
  "kernelspec": {
   "display_name": "Python 3",
   "language": "python",
   "name": "python3"
  },
  "language_info": {
   "codemirror_mode": {
    "name": "ipython",
    "version": 3
   },
   "file_extension": ".py",
   "mimetype": "text/x-python",
   "name": "python",
   "nbconvert_exporter": "python",
   "pygments_lexer": "ipython3",
   "version": "3.6.4"
  }
 },
 "nbformat": 4,
 "nbformat_minor": 2
}
